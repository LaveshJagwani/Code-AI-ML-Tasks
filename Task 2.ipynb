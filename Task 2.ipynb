{
 "cells": [
  {
   "cell_type": "code",
   "execution_count": 2,
   "id": "dfa73960",
   "metadata": {},
   "outputs": [],
   "source": [
    "import numpy as np\n",
    "import pandas as pd\n",
    "import matplotlib.pyplot as plt\n",
    "import seaborn as sns"
   ]
  },
  {
   "cell_type": "code",
   "execution_count": 3,
   "id": "be27689f",
   "metadata": {},
   "outputs": [],
   "source": [
    "df = pd.read_csv(\"ipl.csv\")"
   ]
  },
  {
   "cell_type": "code",
   "execution_count": 4,
   "id": "b8f01d7e",
   "metadata": {},
   "outputs": [
    {
     "data": {
      "text/html": [
       "<div>\n",
       "<style scoped>\n",
       "    .dataframe tbody tr th:only-of-type {\n",
       "        vertical-align: middle;\n",
       "    }\n",
       "\n",
       "    .dataframe tbody tr th {\n",
       "        vertical-align: top;\n",
       "    }\n",
       "\n",
       "    .dataframe thead th {\n",
       "        text-align: right;\n",
       "    }\n",
       "</style>\n",
       "<table border=\"1\" class=\"dataframe\">\n",
       "  <thead>\n",
       "    <tr style=\"text-align: right;\">\n",
       "      <th></th>\n",
       "      <th>matchId</th>\n",
       "      <th>inning</th>\n",
       "      <th>over_ball</th>\n",
       "      <th>over</th>\n",
       "      <th>ball</th>\n",
       "      <th>batting_team</th>\n",
       "      <th>bowling_team</th>\n",
       "      <th>batsman</th>\n",
       "      <th>non_striker</th>\n",
       "      <th>bowler</th>\n",
       "      <th>batsman_runs</th>\n",
       "      <th>extras</th>\n",
       "      <th>isWide</th>\n",
       "      <th>isNoBall</th>\n",
       "      <th>Byes</th>\n",
       "      <th>LegByes</th>\n",
       "      <th>Penalty</th>\n",
       "      <th>dismissal_kind</th>\n",
       "      <th>player_dismissed</th>\n",
       "      <th>date</th>\n",
       "    </tr>\n",
       "  </thead>\n",
       "  <tbody>\n",
       "    <tr>\n",
       "      <th>0</th>\n",
       "      <td>335982</td>\n",
       "      <td>1</td>\n",
       "      <td>0.1</td>\n",
       "      <td>0</td>\n",
       "      <td>1</td>\n",
       "      <td>Kolkata Knight Riders</td>\n",
       "      <td>Royal Challengers Bangalore</td>\n",
       "      <td>SC Ganguly</td>\n",
       "      <td>BB McCullum</td>\n",
       "      <td>P Kumar</td>\n",
       "      <td>0</td>\n",
       "      <td>1</td>\n",
       "      <td>NaN</td>\n",
       "      <td>NaN</td>\n",
       "      <td>NaN</td>\n",
       "      <td>1.0</td>\n",
       "      <td>NaN</td>\n",
       "      <td>NaN</td>\n",
       "      <td>NaN</td>\n",
       "      <td>2008-04-18</td>\n",
       "    </tr>\n",
       "    <tr>\n",
       "      <th>1</th>\n",
       "      <td>335982</td>\n",
       "      <td>1</td>\n",
       "      <td>0.2</td>\n",
       "      <td>0</td>\n",
       "      <td>2</td>\n",
       "      <td>Kolkata Knight Riders</td>\n",
       "      <td>Royal Challengers Bangalore</td>\n",
       "      <td>BB McCullum</td>\n",
       "      <td>SC Ganguly</td>\n",
       "      <td>P Kumar</td>\n",
       "      <td>0</td>\n",
       "      <td>0</td>\n",
       "      <td>NaN</td>\n",
       "      <td>NaN</td>\n",
       "      <td>NaN</td>\n",
       "      <td>NaN</td>\n",
       "      <td>NaN</td>\n",
       "      <td>NaN</td>\n",
       "      <td>NaN</td>\n",
       "      <td>2008-04-18</td>\n",
       "    </tr>\n",
       "    <tr>\n",
       "      <th>2</th>\n",
       "      <td>335982</td>\n",
       "      <td>1</td>\n",
       "      <td>0.3</td>\n",
       "      <td>0</td>\n",
       "      <td>3</td>\n",
       "      <td>Kolkata Knight Riders</td>\n",
       "      <td>Royal Challengers Bangalore</td>\n",
       "      <td>BB McCullum</td>\n",
       "      <td>SC Ganguly</td>\n",
       "      <td>P Kumar</td>\n",
       "      <td>0</td>\n",
       "      <td>1</td>\n",
       "      <td>1.0</td>\n",
       "      <td>NaN</td>\n",
       "      <td>NaN</td>\n",
       "      <td>NaN</td>\n",
       "      <td>NaN</td>\n",
       "      <td>NaN</td>\n",
       "      <td>NaN</td>\n",
       "      <td>2008-04-18</td>\n",
       "    </tr>\n",
       "    <tr>\n",
       "      <th>3</th>\n",
       "      <td>335982</td>\n",
       "      <td>1</td>\n",
       "      <td>0.4</td>\n",
       "      <td>0</td>\n",
       "      <td>4</td>\n",
       "      <td>Kolkata Knight Riders</td>\n",
       "      <td>Royal Challengers Bangalore</td>\n",
       "      <td>BB McCullum</td>\n",
       "      <td>SC Ganguly</td>\n",
       "      <td>P Kumar</td>\n",
       "      <td>0</td>\n",
       "      <td>0</td>\n",
       "      <td>NaN</td>\n",
       "      <td>NaN</td>\n",
       "      <td>NaN</td>\n",
       "      <td>NaN</td>\n",
       "      <td>NaN</td>\n",
       "      <td>NaN</td>\n",
       "      <td>NaN</td>\n",
       "      <td>2008-04-18</td>\n",
       "    </tr>\n",
       "    <tr>\n",
       "      <th>4</th>\n",
       "      <td>335982</td>\n",
       "      <td>1</td>\n",
       "      <td>0.5</td>\n",
       "      <td>0</td>\n",
       "      <td>5</td>\n",
       "      <td>Kolkata Knight Riders</td>\n",
       "      <td>Royal Challengers Bangalore</td>\n",
       "      <td>BB McCullum</td>\n",
       "      <td>SC Ganguly</td>\n",
       "      <td>P Kumar</td>\n",
       "      <td>0</td>\n",
       "      <td>0</td>\n",
       "      <td>NaN</td>\n",
       "      <td>NaN</td>\n",
       "      <td>NaN</td>\n",
       "      <td>NaN</td>\n",
       "      <td>NaN</td>\n",
       "      <td>NaN</td>\n",
       "      <td>NaN</td>\n",
       "      <td>2008-04-18</td>\n",
       "    </tr>\n",
       "  </tbody>\n",
       "</table>\n",
       "</div>"
      ],
      "text/plain": [
       "   matchId  inning  over_ball  over  ball           batting_team  \\\n",
       "0   335982       1        0.1     0     1  Kolkata Knight Riders   \n",
       "1   335982       1        0.2     0     2  Kolkata Knight Riders   \n",
       "2   335982       1        0.3     0     3  Kolkata Knight Riders   \n",
       "3   335982       1        0.4     0     4  Kolkata Knight Riders   \n",
       "4   335982       1        0.5     0     5  Kolkata Knight Riders   \n",
       "\n",
       "                  bowling_team      batsman  non_striker   bowler  \\\n",
       "0  Royal Challengers Bangalore   SC Ganguly  BB McCullum  P Kumar   \n",
       "1  Royal Challengers Bangalore  BB McCullum   SC Ganguly  P Kumar   \n",
       "2  Royal Challengers Bangalore  BB McCullum   SC Ganguly  P Kumar   \n",
       "3  Royal Challengers Bangalore  BB McCullum   SC Ganguly  P Kumar   \n",
       "4  Royal Challengers Bangalore  BB McCullum   SC Ganguly  P Kumar   \n",
       "\n",
       "   batsman_runs  extras  isWide  isNoBall  Byes  LegByes  Penalty  \\\n",
       "0             0       1     NaN       NaN   NaN      1.0      NaN   \n",
       "1             0       0     NaN       NaN   NaN      NaN      NaN   \n",
       "2             0       1     1.0       NaN   NaN      NaN      NaN   \n",
       "3             0       0     NaN       NaN   NaN      NaN      NaN   \n",
       "4             0       0     NaN       NaN   NaN      NaN      NaN   \n",
       "\n",
       "  dismissal_kind player_dismissed        date  \n",
       "0            NaN              NaN  2008-04-18  \n",
       "1            NaN              NaN  2008-04-18  \n",
       "2            NaN              NaN  2008-04-18  \n",
       "3            NaN              NaN  2008-04-18  \n",
       "4            NaN              NaN  2008-04-18  "
      ]
     },
     "execution_count": 4,
     "metadata": {},
     "output_type": "execute_result"
    }
   ],
   "source": [
    "df.head()"
   ]
  },
  {
   "cell_type": "code",
   "execution_count": 5,
   "id": "0aa906ae",
   "metadata": {},
   "outputs": [
    {
     "data": {
      "text/html": [
       "<div>\n",
       "<style scoped>\n",
       "    .dataframe tbody tr th:only-of-type {\n",
       "        vertical-align: middle;\n",
       "    }\n",
       "\n",
       "    .dataframe tbody tr th {\n",
       "        vertical-align: top;\n",
       "    }\n",
       "\n",
       "    .dataframe thead th {\n",
       "        text-align: right;\n",
       "    }\n",
       "</style>\n",
       "<table border=\"1\" class=\"dataframe\">\n",
       "  <thead>\n",
       "    <tr style=\"text-align: right;\">\n",
       "      <th></th>\n",
       "      <th>matchId</th>\n",
       "      <th>inning</th>\n",
       "      <th>over_ball</th>\n",
       "      <th>over</th>\n",
       "      <th>ball</th>\n",
       "      <th>batting_team</th>\n",
       "      <th>bowling_team</th>\n",
       "      <th>batsman</th>\n",
       "      <th>non_striker</th>\n",
       "      <th>bowler</th>\n",
       "      <th>batsman_runs</th>\n",
       "      <th>extras</th>\n",
       "      <th>isWide</th>\n",
       "      <th>isNoBall</th>\n",
       "      <th>Byes</th>\n",
       "      <th>LegByes</th>\n",
       "      <th>Penalty</th>\n",
       "      <th>dismissal_kind</th>\n",
       "      <th>player_dismissed</th>\n",
       "      <th>date</th>\n",
       "    </tr>\n",
       "  </thead>\n",
       "  <tbody>\n",
       "    <tr>\n",
       "      <th>260915</th>\n",
       "      <td>1426312</td>\n",
       "      <td>2</td>\n",
       "      <td>9.5</td>\n",
       "      <td>9</td>\n",
       "      <td>5</td>\n",
       "      <td>Kolkata Knight Riders</td>\n",
       "      <td>Sunrisers Hyderabad</td>\n",
       "      <td>SS Iyer</td>\n",
       "      <td>VR Iyer</td>\n",
       "      <td>AK Markram</td>\n",
       "      <td>1</td>\n",
       "      <td>0</td>\n",
       "      <td>NaN</td>\n",
       "      <td>NaN</td>\n",
       "      <td>NaN</td>\n",
       "      <td>NaN</td>\n",
       "      <td>NaN</td>\n",
       "      <td>NaN</td>\n",
       "      <td>NaN</td>\n",
       "      <td>2024-05-26</td>\n",
       "    </tr>\n",
       "    <tr>\n",
       "      <th>260916</th>\n",
       "      <td>1426312</td>\n",
       "      <td>2</td>\n",
       "      <td>9.6</td>\n",
       "      <td>9</td>\n",
       "      <td>6</td>\n",
       "      <td>Kolkata Knight Riders</td>\n",
       "      <td>Sunrisers Hyderabad</td>\n",
       "      <td>VR Iyer</td>\n",
       "      <td>SS Iyer</td>\n",
       "      <td>AK Markram</td>\n",
       "      <td>1</td>\n",
       "      <td>0</td>\n",
       "      <td>NaN</td>\n",
       "      <td>NaN</td>\n",
       "      <td>NaN</td>\n",
       "      <td>NaN</td>\n",
       "      <td>NaN</td>\n",
       "      <td>NaN</td>\n",
       "      <td>NaN</td>\n",
       "      <td>2024-05-26</td>\n",
       "    </tr>\n",
       "    <tr>\n",
       "      <th>260917</th>\n",
       "      <td>1426312</td>\n",
       "      <td>2</td>\n",
       "      <td>10.1</td>\n",
       "      <td>10</td>\n",
       "      <td>1</td>\n",
       "      <td>Kolkata Knight Riders</td>\n",
       "      <td>Sunrisers Hyderabad</td>\n",
       "      <td>VR Iyer</td>\n",
       "      <td>SS Iyer</td>\n",
       "      <td>Shahbaz Ahmed</td>\n",
       "      <td>1</td>\n",
       "      <td>0</td>\n",
       "      <td>NaN</td>\n",
       "      <td>NaN</td>\n",
       "      <td>NaN</td>\n",
       "      <td>NaN</td>\n",
       "      <td>NaN</td>\n",
       "      <td>NaN</td>\n",
       "      <td>NaN</td>\n",
       "      <td>2024-05-26</td>\n",
       "    </tr>\n",
       "    <tr>\n",
       "      <th>260918</th>\n",
       "      <td>1426312</td>\n",
       "      <td>2</td>\n",
       "      <td>10.2</td>\n",
       "      <td>10</td>\n",
       "      <td>2</td>\n",
       "      <td>Kolkata Knight Riders</td>\n",
       "      <td>Sunrisers Hyderabad</td>\n",
       "      <td>SS Iyer</td>\n",
       "      <td>VR Iyer</td>\n",
       "      <td>Shahbaz Ahmed</td>\n",
       "      <td>1</td>\n",
       "      <td>0</td>\n",
       "      <td>NaN</td>\n",
       "      <td>NaN</td>\n",
       "      <td>NaN</td>\n",
       "      <td>NaN</td>\n",
       "      <td>NaN</td>\n",
       "      <td>NaN</td>\n",
       "      <td>NaN</td>\n",
       "      <td>2024-05-26</td>\n",
       "    </tr>\n",
       "    <tr>\n",
       "      <th>260919</th>\n",
       "      <td>1426312</td>\n",
       "      <td>2</td>\n",
       "      <td>10.3</td>\n",
       "      <td>10</td>\n",
       "      <td>3</td>\n",
       "      <td>Kolkata Knight Riders</td>\n",
       "      <td>Sunrisers Hyderabad</td>\n",
       "      <td>VR Iyer</td>\n",
       "      <td>SS Iyer</td>\n",
       "      <td>Shahbaz Ahmed</td>\n",
       "      <td>1</td>\n",
       "      <td>0</td>\n",
       "      <td>NaN</td>\n",
       "      <td>NaN</td>\n",
       "      <td>NaN</td>\n",
       "      <td>NaN</td>\n",
       "      <td>NaN</td>\n",
       "      <td>NaN</td>\n",
       "      <td>NaN</td>\n",
       "      <td>2024-05-26</td>\n",
       "    </tr>\n",
       "  </tbody>\n",
       "</table>\n",
       "</div>"
      ],
      "text/plain": [
       "        matchId  inning  over_ball  over  ball           batting_team  \\\n",
       "260915  1426312       2        9.5     9     5  Kolkata Knight Riders   \n",
       "260916  1426312       2        9.6     9     6  Kolkata Knight Riders   \n",
       "260917  1426312       2       10.1    10     1  Kolkata Knight Riders   \n",
       "260918  1426312       2       10.2    10     2  Kolkata Knight Riders   \n",
       "260919  1426312       2       10.3    10     3  Kolkata Knight Riders   \n",
       "\n",
       "               bowling_team  batsman non_striker         bowler  batsman_runs  \\\n",
       "260915  Sunrisers Hyderabad  SS Iyer     VR Iyer     AK Markram             1   \n",
       "260916  Sunrisers Hyderabad  VR Iyer     SS Iyer     AK Markram             1   \n",
       "260917  Sunrisers Hyderabad  VR Iyer     SS Iyer  Shahbaz Ahmed             1   \n",
       "260918  Sunrisers Hyderabad  SS Iyer     VR Iyer  Shahbaz Ahmed             1   \n",
       "260919  Sunrisers Hyderabad  VR Iyer     SS Iyer  Shahbaz Ahmed             1   \n",
       "\n",
       "        extras  isWide  isNoBall  Byes  LegByes  Penalty dismissal_kind  \\\n",
       "260915       0     NaN       NaN   NaN      NaN      NaN            NaN   \n",
       "260916       0     NaN       NaN   NaN      NaN      NaN            NaN   \n",
       "260917       0     NaN       NaN   NaN      NaN      NaN            NaN   \n",
       "260918       0     NaN       NaN   NaN      NaN      NaN            NaN   \n",
       "260919       0     NaN       NaN   NaN      NaN      NaN            NaN   \n",
       "\n",
       "       player_dismissed        date  \n",
       "260915              NaN  2024-05-26  \n",
       "260916              NaN  2024-05-26  \n",
       "260917              NaN  2024-05-26  \n",
       "260918              NaN  2024-05-26  \n",
       "260919              NaN  2024-05-26  "
      ]
     },
     "execution_count": 5,
     "metadata": {},
     "output_type": "execute_result"
    }
   ],
   "source": [
    "df.tail()"
   ]
  },
  {
   "cell_type": "code",
   "execution_count": 6,
   "id": "c189789b",
   "metadata": {},
   "outputs": [
    {
     "data": {
      "text/plain": [
       "bowler\n",
       "R Ashwin           4679\n",
       "SP Narine          4146\n",
       "B Kumar            4060\n",
       "PP Chawla          3895\n",
       "RA Jadeja          3895\n",
       "YS Chahal          3628\n",
       "Harbhajan Singh    3496\n",
       "A Mishra           3444\n",
       "DJ Bravo           3296\n",
       "UT Yadav           3190\n",
       "Name: count, dtype: int64"
      ]
     },
     "execution_count": 6,
     "metadata": {},
     "output_type": "execute_result"
    }
   ],
   "source": [
    "# Most deliveries bowled\n",
    "\n",
    "df[\"bowler\"].value_counts().head(10)"
   ]
  },
  {
   "cell_type": "code",
   "execution_count": 7,
   "id": "be6163b9",
   "metadata": {},
   "outputs": [
    {
     "data": {
      "text/plain": [
       "batsman\n",
       "V Kohli       6236\n",
       "S Dhawan      5483\n",
       "RG Sharma     5183\n",
       "DA Warner     4849\n",
       "SK Raina      4177\n",
       "MS Dhoni      3947\n",
       "RV Uthappa    3927\n",
       "AM Rahane     3858\n",
       "KD Karthik    3687\n",
       "KL Rahul      3578\n",
       "Name: count, dtype: int64"
      ]
     },
     "execution_count": 7,
     "metadata": {},
     "output_type": "execute_result"
    }
   ],
   "source": [
    "# Most deliveries faced\n",
    "\n",
    "df[\"batsman\"].value_counts().head(10)"
   ]
  },
  {
   "cell_type": "code",
   "execution_count": 8,
   "id": "80c415e0",
   "metadata": {},
   "outputs": [
    {
     "data": {
      "text/plain": [
       "non_striker\n",
       "V Kohli         6067\n",
       "S Dhawan        5942\n",
       "RG Sharma       5271\n",
       "DA Warner       4677\n",
       "SK Raina        4309\n",
       "AM Rahane       4164\n",
       "F du Plessis    3905\n",
       "RV Uthappa      3776\n",
       "KL Rahul        3763\n",
       "G Gambhir       3740\n",
       "Name: count, dtype: int64"
      ]
     },
     "execution_count": 8,
     "metadata": {},
     "output_type": "execute_result"
    }
   ],
   "source": [
    "# Most deliveries at Non-Striker end\n",
    "\n",
    "df[\"non_striker\"].value_counts().head(10)"
   ]
  },
  {
   "cell_type": "code",
   "execution_count": 9,
   "id": "be3012f8",
   "metadata": {},
   "outputs": [
    {
     "data": {
      "text/plain": [
       "batsman\n",
       "V Kohli           8014\n",
       "S Dhawan          6769\n",
       "RG Sharma         6630\n",
       "DA Warner         6567\n",
       "SK Raina          5536\n",
       "MS Dhoni          5243\n",
       "AB de Villiers    5181\n",
       "CH Gayle          4997\n",
       "RV Uthappa        4954\n",
       "KD Karthik        4843\n",
       "Name: batsman_runs, dtype: int64"
      ]
     },
     "execution_count": 9,
     "metadata": {},
     "output_type": "execute_result"
    }
   ],
   "source": [
    "# Most runs scored\n",
    "\n",
    "df.groupby(\"batsman\")[\"batsman_runs\"].sum().sort_values(ascending=False).head(10)"
   ]
  },
  {
   "cell_type": "code",
   "execution_count": 10,
   "id": "2ed43814",
   "metadata": {},
   "outputs": [
    {
     "data": {
      "text/plain": [
       "bowler\n",
       "YS Chahal     213\n",
       "DJ Bravo      207\n",
       "PP Chawla     201\n",
       "SP Narine     200\n",
       "R Ashwin      198\n",
       "B Kumar       195\n",
       "SL Malinga    188\n",
       "A Mishra      183\n",
       "JJ Bumrah     182\n",
       "RA Jadeja     169\n",
       "Name: IsWicket, dtype: int64"
      ]
     },
     "execution_count": 10,
     "metadata": {},
     "output_type": "execute_result"
    }
   ],
   "source": [
    "#Most wickets Taken \n",
    "\n",
    "df[\"IsWicket\"] = df[\"player_dismissed\"].apply(lambda x: 0 if pd.isnull(x) else 1)\n",
    "df.groupby(\"bowler\")[\"IsWicket\"].sum().sort_values(ascending=False).head(10)"
   ]
  },
  {
   "cell_type": "code",
   "execution_count": 11,
   "id": "613836b7",
   "metadata": {},
   "outputs": [
    {
     "name": "stdout",
     "output_type": "stream",
     "text": [
      " batsman  batsman_runs\n",
      "S Dhawan           618\n",
      " batsman  batsman_runs\n",
      "S Dhawan           688\n",
      " batsman  batsman_runs\n",
      "S Dhawan           558\n",
      "  batsman  batsman_runs\n",
      "DA Warner           607\n",
      "  batsman  batsman_runs\n",
      "DA Warner           559\n",
      "batsman  batsman_runs\n",
      "V Kohli           369\n",
      "batsman  batsman_runs\n",
      "V Kohli           436\n",
      "batsman  batsman_runs\n",
      "V Kohli           439\n",
      "batsman  batsman_runs\n",
      "V Kohli           456\n",
      "batsman  batsman_runs\n",
      "V Kohli           424\n",
      "batsman  batsman_runs\n",
      "V Kohli           456\n",
      "batsman  batsman_runs\n",
      "V Kohli           415\n",
      "   batsman  batsman_runs\n",
      "KD Karthik           455\n",
      " batsman  batsman_runs\n",
      "MS Dhoni           452\n",
      " batsman  batsman_runs\n",
      "MS Dhoni           506\n",
      " batsman  batsman_runs\n",
      "MS Dhoni           612\n",
      " batsman  batsman_runs\n",
      "MS Dhoni           664\n",
      " batsman  batsman_runs\n",
      "MS Dhoni           696\n",
      " batsman  batsman_runs\n",
      "MS Dhoni           814\n",
      "Empty DataFrame\n",
      "Columns: [batsman, batsman_runs]\n",
      "Index: []\n"
     ]
    }
   ],
   "source": [
    "# Most runs in each over\n",
    "\n",
    "for i in range(1,21):\n",
    "    print(df[df[\"over\"]==i].groupby(\"batsman\")[\"batsman_runs\"].sum().sort_values(ascending=False).head(1).reset_index().to_string(index=False))"
   ]
  },
  {
   "cell_type": "code",
   "execution_count": 12,
   "id": "c4afc7b1",
   "metadata": {},
   "outputs": [
    {
     "name": "stdout",
     "output_type": "stream",
     "text": [
      "   batsman  batsman_runs\n",
      "0  V Kohli          1604\n",
      "   batsman  batsman_runs\n",
      "0  V Kohli          1365\n",
      "   batsman  batsman_runs\n",
      "0  V Kohli          1247\n",
      "   batsman  batsman_runs\n",
      "0  V Kohli          1257\n",
      "   batsman  batsman_runs\n",
      "0  V Kohli          1264\n",
      "   batsman  batsman_runs\n",
      "0  V Kohli          1089\n"
     ]
    }
   ],
   "source": [
    "#Most runs of off each ball \n",
    "\n",
    "for i in range(1,7):\n",
    "    print(df[df[\"ball\"]==i].groupby(\"batsman\")[\"batsman_runs\"].sum().sort_values(ascending=False).head(1).reset_index())"
   ]
  },
  {
   "cell_type": "code",
   "execution_count": 13,
   "id": "dcaa0ef5",
   "metadata": {},
   "outputs": [
    {
     "data": {
      "text/plain": [
       "bowler          batsman   \n",
       "SP Narine       RG Sharma     9\n",
       "PP Ojha         MS Dhoni      7\n",
       "A Mishra        RG Sharma     7\n",
       "B Kumar         PA Patel      7\n",
       "MM Sharma       AT Rayudu     7\n",
       "R Ashwin        RV Uthappa    7\n",
       "Sandeep Sharma  V Kohli       7\n",
       "Z Khan          MS Dhoni      7\n",
       "B Kumar         AM Rahane     7\n",
       "JJ Bumrah       RR Pant       7\n",
       "Name: IsWicket, dtype: int64"
      ]
     },
     "execution_count": 13,
     "metadata": {},
     "output_type": "execute_result"
    }
   ],
   "source": [
    "# Most Time bowler dismissing a Batsman \n",
    "\n",
    "df[df[\"IsWicket\"]==1].groupby([\"bowler\",\"batsman\"])[\"IsWicket\"].sum().sort_values(ascending=False).head(10)"
   ]
  },
  {
   "cell_type": "code",
   "execution_count": 14,
   "id": "c5647d51",
   "metadata": {},
   "outputs": [
    {
     "data": {
      "text/plain": [
       "dismissal_kind\n",
       "caught                   8063\n",
       "bowled                   2212\n",
       "run out                  1114\n",
       "lbw                       800\n",
       "caught and bowled         367\n",
       "stumped                   358\n",
       "retired hurt               15\n",
       "hit wicket                 15\n",
       "obstructing the field       3\n",
       "retired out                 3\n",
       "Name: count, dtype: int64"
      ]
     },
     "execution_count": 14,
     "metadata": {},
     "output_type": "execute_result"
    }
   ],
   "source": [
    "# Most Dismissal Types\n",
    "\n",
    "df[\"dismissal_kind\"].value_counts()"
   ]
  },
  {
   "cell_type": "code",
   "execution_count": 15,
   "id": "45f93932",
   "metadata": {},
   "outputs": [
    {
     "data": {
      "text/plain": [
       "bowler\n",
       "A Ashish Reddy   NaN\n",
       "A Badoni         NaN\n",
       "A Chandila       NaN\n",
       "A Choudhary      NaN\n",
       "A Dananjaya      NaN\n",
       "                  ..\n",
       "Yash Dayal       NaN\n",
       "Yash Thakur      NaN\n",
       "Yudhvir Singh    NaN\n",
       "Yuvraj Singh     NaN\n",
       "Z Khan           NaN\n",
       "Name: batsman_runs, Length: 531, dtype: float64"
      ]
     },
     "execution_count": 15,
     "metadata": {},
     "output_type": "execute_result"
    }
   ],
   "source": [
    "df[\"batsman_runs\"] = df[\"batsman_runs\"].fillna(0)\n",
    "df.groupby(\"bowler\")[\"batsman_runs\"].sum() / (df.groupby(\"bowler\")[\"batsman_runs\"].count() / 6).sort_values(ascending=False).head(10)\n"
   ]
  },
  {
   "cell_type": "code",
   "execution_count": 16,
   "id": "d6139974",
   "metadata": {},
   "outputs": [
    {
     "data": {
      "text/plain": [
       "330064"
      ]
     },
     "execution_count": 16,
     "metadata": {},
     "output_type": "execute_result"
    }
   ],
   "source": [
    "df[\"batsman_runs\"].sum()"
   ]
  },
  {
   "cell_type": "code",
   "execution_count": 17,
   "id": "f97b1c33",
   "metadata": {},
   "outputs": [
    {
     "data": {
      "text/plain": [
       "bowler\n",
       "YBK Jaiswal      36.000000\n",
       "Atharva Taide    24.000000\n",
       "I Malhotra       23.000000\n",
       "LPC Silva        21.000000\n",
       "B Chipli         20.000000\n",
       "P Prasanth       18.000000\n",
       "SN Khan          18.000000\n",
       "RR Bhatkal       17.500000\n",
       "CK Kapugedera    17.294118\n",
       "S Sriram         16.333333\n",
       "Name: batsman_runs, dtype: float64"
      ]
     },
     "execution_count": 17,
     "metadata": {},
     "output_type": "execute_result"
    }
   ],
   "source": [
    "temp = df.groupby(\"bowler\")[\"batsman_runs\"]\n",
    "(temp.sum() / (temp.count() / 6)).sort_values(ascending=False).head(10)\n"
   ]
  },
  {
   "cell_type": "code",
   "execution_count": 18,
   "id": "bf3d2be7",
   "metadata": {},
   "outputs": [
    {
     "data": {
      "text/plain": [
       "bowler\n",
       "R Shepherd             11.142857\n",
       "P Amarnath             10.727273\n",
       "Akash Deep             10.560000\n",
       "S Narwal               10.353982\n",
       "MJ Henry               10.171429\n",
       "V Sehwag               10.130435\n",
       "Arshad Khan            10.117647\n",
       "Nithish Kumar Reddy    10.067797\n",
       "KJ Abbott              10.000000\n",
       "R Parag                 9.944751\n",
       "dtype: float64"
      ]
     },
     "execution_count": 18,
     "metadata": {},
     "output_type": "execute_result"
    }
   ],
   "source": [
    "# Highest Economy min 100 balls\n",
    "\n",
    "economy = df.groupby(\"bowler\")[\"batsman_runs\"].agg([\"sum\", \"count\"])\n",
    "economy = economy[economy[\"count\"] > 100]\n",
    "(economy[\"sum\"] / (economy[\"count\"] / 6)).sort_values(ascending=False).head(10)\n"
   ]
  },
  {
   "cell_type": "code",
   "execution_count": 19,
   "id": "42b16d16",
   "metadata": {},
   "outputs": [
    {
     "data": {
      "text/plain": [
       "bowler\n",
       "Sohail Tanvir      5.569811\n",
       "FH Edwards         5.760000\n",
       "A Chandila         6.205128\n",
       "M Muralitharan     6.231499\n",
       "M Pathirana        6.250497\n",
       "SW Tait            6.258427\n",
       "A Kumble           6.268566\n",
       "DW Steyn           6.326030\n",
       "T Thushara         6.333333\n",
       "SMSM Senanayake    6.338462\n",
       "dtype: float64"
      ]
     },
     "execution_count": 19,
     "metadata": {},
     "output_type": "execute_result"
    }
   ],
   "source": [
    "# Lowest Economy min 100 balls\n",
    "\n",
    "economy = df.groupby(\"bowler\")[\"batsman_runs\"].agg([\"sum\", \"count\"])\n",
    "economy = economy[economy[\"count\"] > 100]\n",
    "(economy[\"sum\"] / (economy[\"count\"] / 6)).sort_values(ascending=True).head(10)\n"
   ]
  },
  {
   "cell_type": "code",
   "execution_count": 20,
   "id": "b5e3f059",
   "metadata": {},
   "outputs": [
    {
     "data": {
      "text/plain": [
       "Index(['matchId', 'inning', 'over_ball', 'over', 'ball', 'batting_team',\n",
       "       'bowling_team', 'batsman', 'non_striker', 'bowler', 'batsman_runs',\n",
       "       'extras', 'isWide', 'isNoBall', 'Byes', 'LegByes', 'Penalty',\n",
       "       'dismissal_kind', 'player_dismissed', 'date', 'IsWicket'],\n",
       "      dtype='object')"
      ]
     },
     "execution_count": 20,
     "metadata": {},
     "output_type": "execute_result"
    }
   ],
   "source": [
    "df.columns"
   ]
  },
  {
   "cell_type": "code",
   "execution_count": 21,
   "id": "aa2780a9",
   "metadata": {},
   "outputs": [],
   "source": [
    "# Assigning phase to check phase wise runs/Wickets\n",
    "\n",
    "def assign_phase(over):\n",
    "    if over <= 6:\n",
    "        return 1   \n",
    "    elif over < 16:\n",
    "        return 2   \n",
    "    else:\n",
    "        return 3   \n",
    "\n",
    "df[\"phase\"] = df[\"over\"].apply(assign_phase)\n"
   ]
  },
  {
   "cell_type": "code",
   "execution_count": null,
   "id": "96654a59",
   "metadata": {},
   "outputs": [
    {
     "name": "stdout",
     "output_type": "stream",
     "text": [
      "Phae 1 batsman\n",
      "S Dhawan    3776\n",
      "Name: batsman_runs, dtype: int64\n",
      "Phae 2 batsman\n",
      "V Kohli    3737\n",
      "Name: batsman_runs, dtype: int64\n",
      "Phae 3 batsman\n",
      "MS Dhoni    2786\n",
      "Name: batsman_runs, dtype: int64\n"
     ]
    }
   ],
   "source": [
    "#Most Runs in Each Phase \n",
    "\n",
    "for i in range (1,4):\n",
    "    print(\"Phae\",i,df[df[\"phase\"]==i].groupby(\"batsman\")[\"batsman_runs\"].sum().sort_values(ascending=False).head(1))"
   ]
  },
  {
   "cell_type": "code",
   "execution_count": null,
   "id": "9c4511b4",
   "metadata": {},
   "outputs": [
    {
     "name": "stdout",
     "output_type": "stream",
     "text": [
      "Phae 1 bowler\n",
      "B Kumar    77\n",
      "Name: IsWicket, dtype: int64\n",
      "Phae 2 bowler\n",
      "YS Chahal    144\n",
      "Name: IsWicket, dtype: int64\n",
      "Phae 3 bowler\n",
      "DJ Bravo    115\n",
      "Name: IsWicket, dtype: int64\n"
     ]
    }
   ],
   "source": [
    "#Most Wickets in each phase\n",
    "for i in range (1,4):\n",
    "    print(\"Phae\",i,df[df[\"phase\"]==i].groupby([\"bowler\"])[\"IsWicket\"].sum().sort_values(ascending=False).head(1))"
   ]
  },
  {
   "cell_type": "code",
   "execution_count": 32,
   "id": "ecf481c7",
   "metadata": {},
   "outputs": [
    {
     "name": "stdout",
     "output_type": "stream",
     "text": [
      "Phase 1 bowler\n",
      "DR Smith    9.567568\n",
      "dtype: float64\n",
      "Phase 2 bowler\n",
      "R Parag    10.285714\n",
      "dtype: float64\n",
      "Phase 3 bowler\n",
      "MP Stoinis    12.083916\n",
      "dtype: float64\n"
     ]
    }
   ],
   "source": [
    "# Highest Economy min 100 balls\n",
    "\n",
    "for i in range(1,4):\n",
    "    economy = df[df[\"phase\"]==i].groupby(\"bowler\")[\"batsman_runs\"].agg([\"sum\", \"count\"])\n",
    "    economy = economy[economy[\"count\"] > 100]\n",
    "    print(\"Phase\",i,(economy[\"sum\"] / (economy[\"count\"] / 6)).sort_values(ascending=False).head(1))\n"
   ]
  },
  {
   "cell_type": "code",
   "execution_count": 33,
   "id": "71af3fb7",
   "metadata": {},
   "outputs": [
    {
     "name": "stdout",
     "output_type": "stream",
     "text": [
      "Phase 1 bowler\n",
      "SMSM Senanayake    4.976744\n",
      "dtype: float64\n",
      "Phase 2 bowler\n",
      "MF Maharoof    5.37931\n",
      "dtype: float64\n",
      "Phase 3 bowler\n",
      "M Pathirana    6.853333\n",
      "dtype: float64\n"
     ]
    }
   ],
   "source": [
    "# Lowest Economy min 100 balls\n",
    "\n",
    "for i in range(1,4):\n",
    "    economy = df[df[\"phase\"]==i].groupby(\"bowler\")[\"batsman_runs\"].agg([\"sum\", \"count\"])\n",
    "    economy = economy[economy[\"count\"] > 100]\n",
    "    print(\"Phase\",i,(economy[\"sum\"] / (economy[\"count\"] / 6)).sort_values().head(1))\n"
   ]
  },
  {
   "cell_type": "code",
   "execution_count": null,
   "id": "f9c7f2f3",
   "metadata": {},
   "outputs": [
    {
     "name": "stdout",
     "output_type": "stream",
     "text": [
      "Team Kolkata Knight Riders batsman\n",
      "G Gambhir    3035\n",
      "Name: batsman_runs, dtype: int64\n",
      "Team Royal Challengers Bangalore batsman\n",
      "V Kohli    7273\n",
      "Name: batsman_runs, dtype: int64\n",
      "Team Chennai Super Kings batsman\n",
      "SK Raina    4695\n",
      "Name: batsman_runs, dtype: int64\n",
      "Team Kings XI Punjab batsman\n",
      "SE Marsh    2489\n",
      "Name: batsman_runs, dtype: int64\n",
      "Team Rajasthan Royals batsman\n",
      "SV Samson    3742\n",
      "Name: batsman_runs, dtype: int64\n",
      "Team Delhi Daredevils batsman\n",
      "V Sehwag    2174\n",
      "Name: batsman_runs, dtype: int64\n",
      "Team Mumbai Indians batsman\n",
      "RG Sharma    5460\n",
      "Name: batsman_runs, dtype: int64\n",
      "Team Deccan Chargers batsman\n",
      "AC Gilchrist    1220\n",
      "Name: batsman_runs, dtype: int64\n",
      "Team Kochi Tuskers Kerala batsman\n",
      "BB McCullum    357\n",
      "Name: batsman_runs, dtype: int64\n",
      "Team Pune Warriors batsman\n",
      "RV Uthappa    1103\n",
      "Name: batsman_runs, dtype: int64\n",
      "Team Sunrisers Hyderabad batsman\n",
      "DA Warner    4016\n",
      "Name: batsman_runs, dtype: int64\n",
      "Team Rising Pune Supergiants batsman\n",
      "AM Rahane    480\n",
      "Name: batsman_runs, dtype: int64\n",
      "Team Gujarat Lions batsman\n",
      "SK Raina    841\n",
      "Name: batsman_runs, dtype: int64\n",
      "Team Rising Pune Supergiant batsman\n",
      "SPD Smith    472\n",
      "Name: batsman_runs, dtype: int64\n",
      "Team Delhi Capitals batsman\n",
      "RR Pant    2049\n",
      "Name: batsman_runs, dtype: int64\n",
      "Team Punjab Kings batsman\n",
      "S Dhawan    985\n",
      "Name: batsman_runs, dtype: int64\n",
      "Team Lucknow Super Giants batsman\n",
      "KL Rahul    1410\n",
      "Name: batsman_runs, dtype: int64\n",
      "Team Gujarat Titans batsman\n",
      "Shubman Gill    1799\n",
      "Name: batsman_runs, dtype: int64\n",
      "Team Royal Challengers Bengaluru batsman\n",
      "V Kohli    741\n",
      "Name: batsman_runs, dtype: int64\n"
     ]
    }
   ],
   "source": [
    "# Most Runs for each team\n",
    "\n",
    "teams = df[\"batting_team\"].unique()\n",
    "for team in teams:\n",
    "    print(\"Team\",team,df[df[\"batting_team\"] == team].groupby([\"batsman\"])[\"batsman_runs\"].sum().sort_values(ascending= False).head(1))\n",
    "\n",
    "# Little Inefficient due to team name changes - Can be solved by renaming teams with name changes"
   ]
  },
  {
   "cell_type": "code",
   "execution_count": null,
   "id": "11fce9dd",
   "metadata": {},
   "outputs": [
    {
     "name": "stdout",
     "output_type": "stream",
     "text": [
      "Team Royal Challengers Bangalore bowler\n",
      "YS Chahal    143\n",
      "Name: IsWicket, dtype: int64\n",
      "Team Kolkata Knight Riders bowler\n",
      "SP Narine    200\n",
      "Name: IsWicket, dtype: int64\n",
      "Team Kings XI Punjab bowler\n",
      "PP Chawla    89\n",
      "Name: IsWicket, dtype: int64\n",
      "Team Chennai Super Kings bowler\n",
      "DJ Bravo    158\n",
      "Name: IsWicket, dtype: int64\n",
      "Team Delhi Daredevils bowler\n",
      "A Mishra    91\n",
      "Name: IsWicket, dtype: int64\n",
      "Team Rajasthan Royals bowler\n",
      "SK Trivedi    73\n",
      "Name: IsWicket, dtype: int64\n",
      "Team Mumbai Indians bowler\n",
      "SL Malinga    188\n",
      "Name: IsWicket, dtype: int64\n",
      "Team Deccan Chargers bowler\n",
      "PP Ojha    66\n",
      "Name: IsWicket, dtype: int64\n",
      "Team Kochi Tuskers Kerala bowler\n",
      "R Vinay Kumar    17\n",
      "Name: IsWicket, dtype: int64\n",
      "Team Pune Warriors bowler\n",
      "R Sharma    35\n",
      "Name: IsWicket, dtype: int64\n",
      "Team Sunrisers Hyderabad bowler\n",
      "B Kumar    170\n",
      "Name: IsWicket, dtype: int64\n",
      "Team Rising Pune Supergiants bowler\n",
      "AB Dinda    13\n",
      "Name: IsWicket, dtype: int64\n",
      "Team Gujarat Lions bowler\n",
      "DS Kulkarni    23\n",
      "Name: IsWicket, dtype: int64\n",
      "Team Rising Pune Supergiant bowler\n",
      "JD Unadkat    27\n",
      "Name: IsWicket, dtype: int64\n",
      "Team Delhi Capitals bowler\n",
      "K Rabada    77\n",
      "Name: IsWicket, dtype: int64\n",
      "Team Punjab Kings bowler\n",
      "Arshdeep Singh    70\n",
      "Name: IsWicket, dtype: int64\n",
      "Team Gujarat Titans bowler\n",
      "Rashid Khan    58\n",
      "Name: IsWicket, dtype: int64\n",
      "Team Lucknow Super Giants bowler\n",
      "Ravi Bishnoi    41\n",
      "Name: IsWicket, dtype: int64\n",
      "Team Royal Challengers Bengaluru bowler\n",
      "Yash Dayal    16\n",
      "Name: IsWicket, dtype: int64\n"
     ]
    }
   ],
   "source": [
    "# Most Wickets for each team\n",
    "\n",
    "teams = df[\"bowling_team\"].unique()\n",
    "for team in teams:\n",
    "    print(\"Team\",team,df[df[\"bowling_team\"] == team].groupby([\"bowler\"])[\"IsWicket\"].sum().sort_values(ascending= False).head(1))\n",
    "\n",
    "# Little Inefficient due to team name changes - Can be solved by renaming teams with name changes"
   ]
  },
  {
   "cell_type": "code",
   "execution_count": 49,
   "id": "0a23ebc3",
   "metadata": {},
   "outputs": [
    {
     "name": "stdout",
     "output_type": "stream",
     "text": [
      "Batsman: MS Dhoni dismissal_kind\n",
      "caught               92\n",
      "run out              25\n",
      "bowled               20\n",
      "lbw                   5\n",
      "caught and bowled     4\n",
      "stumped               3\n",
      "Name: count, dtype: int64\n"
     ]
    }
   ],
   "source": [
    "def batsman_dismissal_type(batsman):\n",
    "    print(\"Batsman:\" , batsman,df[(df[\"batsman\"] == batsman) & (df[\"IsWicket\"] == 1)][\"dismissal_kind\"].value_counts())\n",
    "\n",
    "batsman_dismissal_type(\"MS Dhoni\")\n"
   ]
  },
  {
   "cell_type": "code",
   "execution_count": null,
   "id": "79c91371",
   "metadata": {},
   "outputs": [],
   "source": []
  }
 ],
 "metadata": {
  "kernelspec": {
   "display_name": "Python 3",
   "language": "python",
   "name": "python3"
  },
  "language_info": {
   "codemirror_mode": {
    "name": "ipython",
    "version": 3
   },
   "file_extension": ".py",
   "mimetype": "text/x-python",
   "name": "python",
   "nbconvert_exporter": "python",
   "pygments_lexer": "ipython3",
   "version": "3.12.7"
  }
 },
 "nbformat": 4,
 "nbformat_minor": 5
}
